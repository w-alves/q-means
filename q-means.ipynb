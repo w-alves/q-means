{
 "cells": [
  {
   "cell_type": "markdown",
   "id": "2c4e633a-9454-4493-a7a7-6387b557f16a",
   "metadata": {},
   "source": [
    "# Q-means | Quantum k-means\n"
   ]
  },
  {
   "cell_type": "markdown",
   "id": "53637429-5277-445e-92a3-7a9592331c2a",
   "metadata": {},
   "source": [
    "## Introdução\n",
    "\n",
    "A técnica de clustering, em machine learning, é um processo de agrupamento de dados semelhantes com base em suas características e propriedades compartilhadas. Ela desempenha um papel fundamental na análise de dados e na descoberta de estruturas ocultas em conjuntos de dados, permitindo a organização e a compreensão dos dados de maneira mais eficaz. Clustering é amplamente utilizado em diversas aplicações, desde segmentação de clientes em marketing até classificação de documentos em mineração de textos.\n",
    "\n",
    "Um dos algoritmos clássicos de clustering é o k-means, que busca dividir os dados em k grupos, minimizando a variância intra-grupo. No entanto, à medida que lidamos com conjuntos de dados cada vez maiores e mais complexos, a computação clássica pode se tornar ineficiente na execução desses algoritmos.\n",
    "\n",
    "Nesse contexto, os algoritmos quânticos, como o q-means, têm o potencial de revolucionar o campo do clustering. O q-means é uma versão quântica do k-means que aproveita os princípios da mecânica quântica para processar informações de maneira paralela e mais eficiente. Em vez de lidar com bits clássicos, que podem representar 0 ou 1, os computadores quânticos usam qubits, que podem representar 0, 1 ou qualquer superposição desses estados, o que permite uma abordagem de busca mais eficaz.\n",
    "\n",
    "O algoritmo q-means pode acelerar significativamente o processo de clustering em grandes conjuntos de dados, pois explora todas as possíveis combinações de agrupamento de maneira simultânea. Isso é particularmente valioso em cenários onde a quantidade de dados é vasta e a análise tradicional seria computacionalmente proibitiva.\n",
    "\n",
    "Com esse notebook, vamos implementar e explicar com detalhes o funcionamento desse algoritmo. Além disso, vamos avaliar ele utilizando alguns datasets clássicos."
   ]
  },
  {
   "cell_type": "markdown",
   "id": "108f0a74-1f0e-4900-b59c-efa1f3803e8a",
   "metadata": {},
   "source": [
    "## 1. Setup\n",
    "\n",
    "Vamos primeiro importar algumas bibliotecas que serão utilizadas no desenvolvimento desse projeto.\n",
    "\n",
    "O código importa bibliotecas e módulos comumente usados para análise de dados, visualização e tarefas de aprendizado de máquina.\n",
    "- numpy (como np) é usado para operações numéricas.\n",
    "- matplotlib.pyplot (como plt) é usado para visualização de dados.\n",
    "- math fornece funções matemáticas e constantes.\n",
    "- pandas (como pd) é usado para manipulação e análise de dados.\n",
    "- time é usado para medir o tempo de execução de partes específicas do código.\n",
    "\n",
    "Também importamos módulos específicos do scikit-learn (sklearn), uma biblioteca popular de aprendizado de máquina em Python.\n",
    "- load_iris, load_wine e load_breast_cancer são funções para carregar conjuntos de dados de exemplo do scikit-learn.\n",
    "- PCA é usado para análise de componentes principais, uma técnica de redução de dimensionalidade.\n",
    "- MinMaxScaler é usado para dimensionar recursos para o intervalo de 0 a 1.\n",
    "- davies_bouldin_score e silhouette_score são usados para métricas de avaliação de clusters.\n"
   ]
  },
  {
   "cell_type": "code",
   "execution_count": 20,
   "id": "e0b70d37",
   "metadata": {},
   "outputs": [],
   "source": [
    "import numpy as np\n",
    "import matplotlib.pyplot as plt\n",
    "import math\n",
    "import pandas as pd\n",
    "import time\n",
    "\n",
    "from sklearn.datasets import load_iris, load_wine, load_breast_cancer\n",
    "from sklearn.decomposition import PCA\n",
    "from sklearn.preprocessing import MinMaxScaler\n",
    "from sklearn.metrics import davies_bouldin_score, silhouette_score"
   ]
  },
  {
   "cell_type": "markdown",
   "id": "b57ad0fe-440b-4924-8e75-54c7d4b3dd1e",
   "metadata": {},
   "source": [
    "Agora, a biblioteca 'qiskit' é importada, que é uma biblioteca popular de computação quântica em Python.\n",
    "- 'Aer' fornece acesso aos backends de simulação para circuitos quânticos.\n",
    "- 'IBMQ' é usado para se conectar ao IBM Quantum Experience e acessar dispositivos quânticos reais.\n",
    "- 'execute' é usado para executar circuitos quânticos em um backend escolhido.\n",
    "- 'QuantumCircuit' é usado para criar circuitos quânticos.\n",
    "- 'ClassicalRegister' e 'QuantumRegister' são usados para criar registros clássicos e quânticos, respectivamente.\n",
    "\n",
    "'Aer.get_backend' é usado para selecionar o backend 'qasm_simulator' para a simulação.\n",
    "O backend 'qasm_simulator' é um simulador local que permite simular circuitos quânticos sem usar um dispositivo quântico real.\n"
   ]
  },
  {
   "cell_type": "code",
   "execution_count": 6,
   "id": "26337cd1",
   "metadata": {},
   "outputs": [],
   "source": [
    "from math import pi\n",
    "from qiskit import Aer, IBMQ, execute\n",
    "from qiskit import QuantumCircuit, ClassicalRegister, QuantumRegister\n",
    "\n",
    "backend = Aer.get_backend('qasm_simulator')"
   ]
  },
  {
   "cell_type": "markdown",
   "id": "b6cd821c-fb93-4d7e-91fb-25b379aa5425",
   "metadata": {},
   "source": [
    "## 2. Funções úteis\n",
    "\n",
    "Nesse bloco de códgo, vamos implementar algumas funções úteis que vão guiar nossa implementação do algortimo."
   ]
  },
  {
   "cell_type": "markdown",
   "id": "0633a741-2069-44ca-840e-f2be606b673a",
   "metadata": {},
   "source": [
    "Primeiro, vamos definir uma função chamada 'get_theta' que recebe uma tupla 'd' como entrada. Dentro da função, a tupla 'd' é descompactada em duas variáveis, 'x' e 'y'. Em seguida, a função calcula o valor de 'theta' usando a fórmula (x + 1) * (pi/2) e o valor de 'phi' usando a fórmula (y + 1) * (pi/2), onde 'pi' é a constante matemática π. Por fim, a função retorna tanto 'theta' quanto 'phi' como uma tupla contendo esses dois valores calculados. "
   ]
  },
  {
   "cell_type": "code",
   "execution_count": 7,
   "id": "aa02af07",
   "metadata": {},
   "outputs": [],
   "source": [
    "def get_theta(d):\n",
    "    x = d[0]\n",
    "    y = d[1]\n",
    "    \n",
    "    theta = (x + 1) * (pi / 2)\n",
    "    \n",
    "    phi = (y + 1) * (pi / 2)\n",
    "    \n",
    "    return theta, phi"
   ]
  },
  {
   "cell_type": "markdown",
   "id": "b0025e4a-bee1-4407-8946-52e9bcd958f3",
   "metadata": {},
   "source": [
    "Agora, vamos definir uma função chamada 'get_Distance' com quatro parâmetros de entrada: x, y, count1 e count2. Dentro da função, ela calcula os valores de theta e phi para x e y chamando a função 'get_theta'. Em seguida, cria um circuito quântico envolvendo um registro quântico e um registro clássico, aplicando uma série de portas quânticas, incluindo as portas Hadamard, Rz, Ry e u3 em qubits específicos. O circuito é projetado para calcular uma medida de distância quântica entre dois estados quânticos representados por x e y. O resultado é armazenado no registro clássico. Se count1 e count2 forem ambos zero, o circuito quântico é impresso. Posteriormente, o circuito é executado em um simulador quântico com 2048 execuções (shots), e a função retorna a probabilidade de obter o resultado '001' como a medida de distância. Em resumo, essa função usa circuitos quânticos para calcular uma medida de distância entre dois estados quânticos representados por x e y.\n",
    "\n",
    "\n",
    "\n",
    "\n"
   ]
  },
  {
   "cell_type": "code",
   "execution_count": 8,
   "id": "36b3d356",
   "metadata": {},
   "outputs": [],
   "source": [
    "def get_Distance(x, y, count1, count2):\n",
    "    theta_1, phi_1 = get_theta(x)\n",
    "    theta_2, phi_2 = get_theta(y)\n",
    "    \n",
    "    qr = QuantumRegister(3, name=\"qr\")\n",
    "    cr = ClassicalRegister(3, name=\"cr\")\n",
    "\n",
    "    qc = QuantumCircuit(qr, cr, name=\"k_means\")\n",
    "    \n",
    "    qc.h(qr[0])\n",
    "    \n",
    "    qc.rz(theta_1, qr[1])                               \n",
    "    qc.ry(theta_1, qr[1])\n",
    "    qc.u(theta_1, phi_1, 0, qr[1]).inverse\n",
    "    qc.rz(theta_2, qr[2])                           \n",
    "    qc.ry(theta_2, qr[2])\n",
    "    qc.u(theta_2, phi_2, 0, qr[2]).inverse\n",
    "    \n",
    "    qc.cswap(qr[0], qr[1], qr[2])\n",
    "\n",
    "    qc.h(qr[0])\n",
    "        \n",
    "    qc.measure(qr[0], cr[0])\n",
    "    \n",
    "    if count1 == 0 and count2 == 0:\n",
    "        print(qc)\n",
    "        \n",
    "    job = execute(qc, backend=backend, shots=2048)\n",
    "    result = job.result()\n",
    "    data = result.get_counts(qc)\n",
    "    \n",
    "    if len(data) == 1:\n",
    "        return 0.0\n",
    "    else:\n",
    "        return data['001'] / 2048.0"
   ]
  },
  {
   "cell_type": "markdown",
   "id": "58e89fd4-672f-4b66-98dc-368cee22249c",
   "metadata": {},
   "source": [
    "Também vamos definir uma função chamada 'get_data' com dois parâmetros de entrada: k e model. A função decide qual conjunto de dados carregar com base no valor do parâmetro 'model'. Se 'model' for \"iris\", o conjunto de dados Iris é carregado; se 'model' for \"wine\", o conjunto de dados Wine é carregado; caso contrário, o conjunto de dados de câncer de mama é carregado como padrão. Em seguida, os dados carregados são transformados em um DataFrame 'df' usando os recursos e nomes de características fornecidos no conjunto de dados. Posteriormente, é realizada uma Análise de Componentes Principais (PCA) com 2 componentes no DataFrame 'df'. Os dados são transformados em pontos bidimensionais usando o PCA, e esses pontos transformados são retornados como resultado da função. Em resumo, essa função carrega um dos três conjuntos de dados com base no valor do parâmetro 'model', aplica PCA para reduzir a dimensionalidade dos dados para 2 componentes e retorna os pontos transformados."
   ]
  },
  {
   "cell_type": "code",
   "execution_count": 9,
   "id": "23f5b0a2",
   "metadata": {},
   "outputs": [],
   "source": [
    "def get_data(k, model):\n",
    "    if model == \"iris\":\n",
    "        data1 = load_iris()\n",
    "    elif model == \"wine\":\n",
    "        data1 = load_wine()\n",
    "    else:\n",
    "        data1 = load_breast_cancer()\n",
    "    \n",
    "    df = pd.DataFrame(data1['data'], columns=data1['feature_names'])\n",
    "    \n",
    "    pca_1 = PCA(n_components=2)\n",
    "    pca_1.fit(df)\n",
    "    \n",
    "    points = pca_1.transform(df)\n",
    "    \n",
    "    return points"
   ]
  },
  {
   "cell_type": "markdown",
   "id": "71f69bdd-88c4-4b70-988f-e2e5fc9e3eb5",
   "metadata": {},
   "source": [
    "Buscando futuramente visualizar melhor nossos resultados, vamos definir uma função chamada 'draw_plot' com três parâmetros de entrada: points, centers e label (rótulo). A função decide como desenhar um gráfico de dispersão (scatter plot) com base no valor do parâmetro 'label'. Se 'label' for False, a função simplesmente traça os pontos no gráfico de dispersão sem considerar os centros. Se 'label' for True, a função atribui cores diferentes aos pontos de acordo com os centros a que pertencem e exibe uma legenda indicando os clusters. Além disso, a função define limites para os eixos x e y do gráfico e, por fim, exibe o gráfico de dispersão"
   ]
  },
  {
   "cell_type": "code",
   "execution_count": 10,
   "id": "3d2cbf98",
   "metadata": {},
   "outputs": [],
   "source": [
    "def draw_plot(points, centers, label=True):\n",
    "    if label == False:\n",
    "        plt.scatter(points[:, 0], points[:, 1], s=3)\n",
    "        \n",
    "    else:\n",
    "        for cluster_id in np.unique(centers):\n",
    "            cluster_data = points[centers == cluster_id]\n",
    "            plt.scatter(cluster_data[:, 0], cluster_data[:, 1], label=f'Cluster {int(cluster_id) + 1}', s=3)\n",
    "        plt.legend(loc='lower right', fontsize=6) \n",
    "        \n",
    "    # Set the limits of the x-axis and y-axis for the plot\n",
    "    plt.xlim(-0.15, 1.2)\n",
    "    plt.ylim(-0.15, 1.2)\n",
    "    \n",
    "    plt.show()"
   ]
  },
  {
   "cell_type": "markdown",
   "id": "f67ca2ca-adc6-45bb-b622-d22898a40d01",
   "metadata": {},
   "source": [
    "Vamos agora implementar uma função chamada 'plot_centroids' com um parâmetro de entrada: centers (centros). A função é responsável por criar um gráfico de dispersão que mostra os centroids (pontos centrais) de clusters. Ela usa as coordenadas x da primeira coluna (centers[:, 0]) e as coordenadas y da segunda coluna (centers[:, 1]) do array 'centers' para plotar os pontos. O parâmetro 's=3' define o tamanho dos pontos no gráfico como 3. Além disso, a função define limites para os eixos x e y do gráfico para garantir que todos os centroids sejam visíveis e, por fim, exibe o gráfico com os centroid"
   ]
  },
  {
   "cell_type": "code",
   "execution_count": null,
   "id": "25e508d4",
   "metadata": {},
   "outputs": [],
   "source": [
    "def plot_centroids(centers):\n",
    "    plt.scatter(centers[:, 0], centers[:, 1], s=3)\n",
    "    \n",
    "    plt.xlim(-0.15, 1.2)\n",
    "    plt.ylim(-0.15, 1.2)\n",
    "    \n",
    "    plt.show()"
   ]
  },
  {
   "cell_type": "markdown",
   "id": "fbf5d6d6-d1dc-466b-845f-65d0ba3af518",
   "metadata": {},
   "source": [
    "Agora vamos tratar da inicialização: para isso vamos definir a função 'initialize_centers' com dois parâmetros de entrada: points (pontos) e k (número de centros desejados). O código usa a função random.randint do NumPy para selecionar aleatoriamente 'k' pontos (índices de linhas) do array 'points'. Os inteiros aleatórios estarão no intervalo [0, points.shape[0]), onde points.shape[0] representa o número de linhas no array 'points'. Isso significa que os índices estarão no intervalo [0, points.shape[0]-1]. A função retorna os 'k' pontos iniciais escolhidos aleatoriamente do array 'points' como os centros iniciais para um algoritmo de clusterização."
   ]
  },
  {
   "cell_type": "code",
   "execution_count": 12,
   "id": "c93c9e0d",
   "metadata": {},
   "outputs": [],
   "source": [
    "def initialize_centers(points, k):\n",
    "    np.random.seed(45)\n",
    "    \n",
    "    return points[np.random.randint(points.shape[0], size=k), :]"
   ]
  },
  {
   "cell_type": "markdown",
   "id": "35d15074-e7bb-4403-8bd9-28ad0796c76d",
   "metadata": {},
   "source": [
    "Uma das etapas importantes num algoritmo de clusterização é achar o vizinho mais próximo,  assim agora temos a função 'find_nearest_neighbour' com três parâmetros de entrada: points (pontos de dados), centroids (centroides) e count1. A função calcula o centro mais próximo para cada ponto de dados em 'points' em relação aos centroides em 'centroids'. Inicialmente, ele obtém o número de pontos de dados (n) e o número de centroides (k). Em seguida, ele itera por todos os pontos de dados e, para cada ponto, calcula a distância para cada centro usando a função 'get_Distance' com os parâmetros fornecidos. O índice do centro mais próximo é atribuído a cada ponto e armazenado no array 'centers'. O resultado é um array que associa cada ponto de dados ao índice do centro mais próximo. Esse array é retornado como saída da função 'find_nearest_neighbour'"
   ]
  },
  {
   "cell_type": "code",
   "execution_count": 13,
   "id": "242fdd96",
   "metadata": {},
   "outputs": [],
   "source": [
    "def find_nearest_neighbour(points, centroids, count1):\n",
    "    n = len(points)\n",
    "    k = centroids.shape[0]\n",
    "    \n",
    "    centers = np.zeros(n)\n",
    "    \n",
    "    count2 = 0\n",
    "    \n",
    "    for i in range(n):\n",
    "        min_dis = 10000\n",
    "        index = 0\n",
    "        \n",
    "        for j in range(k):\n",
    "            temp_dist = get_Distance(points[i, :], centroids[j, :], count1, count2)\n",
    "            \n",
    "            count2 = count2 + 1\n",
    "            \n",
    "            if temp_dist < min_dis:\n",
    "                min_dis = temp_dist\n",
    "                index = j\n",
    "        \n",
    "        centers[i] = index\n",
    "    \n",
    "    return centers"
   ]
  },
  {
   "cell_type": "markdown",
   "id": "bfe3bee7-b455-49bd-b5aa-4509e0498150",
   "metadata": {},
   "source": [
    "Vamos agora implementar a função 'find_centroids' com dois parâmetros de entrada: points (pontos de dados) e centers (índices de clusters). A função calcula os centroides (pontos centrais) para os clusters representados pelos índices em 'centers'. Inicialmente, ele obtém o número de pontos de dados (n) e o número de clusters (k) observando o valor máximo em 'centers' e adicionando 1. Em seguida, ele cria um array 'centroids' de zeros com dimensões (k, 2), onde cada linha representa as coordenadas x e y de um centro. A função itera por cada cluster (índices de 0 a k-1) e calcula a média (média) dos pontos de dados pertencentes ao cluster atual usando 'np.average()'. O resultado é atribuído às coordenadas do centro correspondente na matriz 'centroids'. Por fim, a função retorna os centroides calculados, que representam os pontos centrais de cada cluster."
   ]
  },
  {
   "cell_type": "code",
   "execution_count": 14,
   "id": "13c32e31",
   "metadata": {},
   "outputs": [],
   "source": [
    "def find_centroids(points, centers):\n",
    "    n = len(points)\n",
    "    k = int(np.max(centers)) + 1\n",
    "    \n",
    "    centroids = np.zeros([k, 2])\n",
    "    \n",
    "    for i in range(k):\n",
    "        centroids[i, :] = np.average(points[centers == i], axis=0)\n",
    "    \n",
    "    return centroids"
   ]
  },
  {
   "cell_type": "markdown",
   "id": "2026f66f-1680-47ef-8daa-c85b60693c20",
   "metadata": {},
   "source": [
    "Vamos criar uma breve frunção com o objetivo de pré-processar os dados, especificamente normalizando-os para o intervalo [0, 1]. Primeiro, cria-se uma instância do MinMaxScaler, que é um objeto responsável pela escala dos dados. Em seguida, utiliza-se o método 'fit_transform' do MinMaxScaler para realizar a normalização dos pontos de dados. Esse método calcula os valores mínimos e máximos de cada característica nos pontos de dados e dimensiona os pontos para que fiquem dentro do intervalo desejado, neste caso, [0, 1]. O resultado é a matriz 'normalized_data' contendo os pontos de dados normalizados, que é retornada pela função. Esse tipo de pré-processamento é frequentemente usado para garantir que os dados estejam em uma escala uniforme antes de aplicar algoritmos de aprendizado de máquina."
   ]
  },
  {
   "cell_type": "code",
   "execution_count": 15,
   "id": "3c590573",
   "metadata": {},
   "outputs": [],
   "source": [
    "def preprocess(points):\n",
    "    scaler = MinMaxScaler()\n",
    "    \n",
    "    normalized_data = scaler.fit_transform(points)\n",
    "    \n",
    "    return normalized_data"
   ]
  },
  {
   "cell_type": "markdown",
   "id": "14d73e26-51ad-4f82-8718-068f8440bc9e",
   "metadata": {},
   "source": [
    "## 3. Execução\n",
    "\n",
    "Agora, vamos executar e avaliar nosso algoritmo. Para isso, vamos definir um pipeline composto por algumas etapas que vai nos ajudar a executar essa tarefa.\n",
    "\n",
    "1. Define o número de centros (k), o modelo de conjunto de dados (\"iris\" neste caso) e count1 (usado para imprimir o circuito quântico em get_Distance()).\n",
    "\n",
    "2. Obtém os pontos de dados usando o modelo especificado (\"iris\") por meio da função 'get_data(k, model)'.\n",
    "\n",
    "3. Pré-processa (normaliza) os pontos de dados usando a escala Min-Max por meio da função 'preprocess(points)'.\n",
    "\n",
    "4. Inicializa os centróides para o algoritmo k-means usando a função 'initialize_centers(points, k)'.\n",
    "\n",
    "5. Plota os pontos de dados iniciais sem os centróides (label=False) para visualização.\n",
    "\n",
    "6. Executa o algoritmo k-means por um número fixo de iterações (100 neste caso) em um loop:\n",
    "\n",
    "    * Encontra os centróides mais próximos para cada ponto de dados usando os centróides atuais por meio da função 'find_nearest_neighbour(points, centroids, count1)'.\n",
    "    * Atualiza os centróides com base na média dos pontos de dados pertencentes a cada cluster por meio da função 'find_centroids(points, centers)'.\n",
    "    * Incrementa a variável count1.\n",
    "    \n",
    "\n",
    "\n",
    "7. Plota os pontos de dados com os centróides após a última iteração para visualização.\n",
    "\n",
    "8. Calcula o Índice de Davies-Bouldin para avaliar a qualidade do agrupamento (clustering quality) usando a função 'davies_bouldin_score(points, centers)' e imprime o resultado.\n",
    "\n",
    "9. Calcula o Silhouette Score para avaliar a qualidade do agrupamento (clustering quality) usando a função 'silhouette_score(points, centers)' e imprime o resultado.\n",
    "\n",
    "10. Calcula o tempo de execução do algoritmo k-means e imprime o resultado."
   ]
  },
  {
   "cell_type": "markdown",
   "id": "cf1b450d-6121-41b2-82a7-af87148ae0ce",
   "metadata": {},
   "source": [
    "## 3.1 Dataset Iris"
   ]
  },
  {
   "cell_type": "code",
   "execution_count": 16,
   "id": "a0144917",
   "metadata": {},
   "outputs": [
    {
     "data": {
      "image/png": "[encoded data removed]",
      "text/plain": [
       "<Figure size 432x288 with 1 Axes>"
      ]
     },
     "metadata": {
      "needs_background": "light"
     },
     "output_type": "display_data"
    },
    {
     "name": "stdout",
     "output_type": "stream",
     "text": [
      "          ┌───┐                                           ┌───┐┌─┐\n",
      "qr_0: ────┤ H ├─────────────────────────────────────────■─┤ H ├┤M├\n",
      "      ┌───┴───┴────┐┌────────────┐┌───────────────────┐ │ └───┘└╥┘\n",
      "qr_1: ┤ Rz(1.6916) ├┤ Ry(1.6916) ├┤ U(1.6916,2.514,0) ├─X───────╫─\n",
      "      ├────────────┤├────────────┤└─┬───────────────┬─┘ │       ║ \n",
      "qr_2: ┤ Rz(3.0152) ├┤ Ry(3.0152) ├──┤ U(3.0152,π,0) ├───X───────╫─\n",
      "      └────────────┘└────────────┘  └───────────────┘           ║ \n",
      "cr: 3/══════════════════════════════════════════════════════════╩═\n",
      "                                                                0 \n"
     ]
    },
    {
     "data": {
      "image/png": "[encoded data removed]",
      "text/plain": [
       "<Figure size 432x288 with 1 Axes>"
      ]
     },
     "metadata": {
      "needs_background": "light"
     },
     "output_type": "display_data"
    },
    {
     "name": "stdout",
     "output_type": "stream",
     "text": [
      "Davies-Bouldin Index: 0.7359006154298312\n",
      "Silhouette Score: 0.4853275586468652\n",
      "Execution time:  385.32541155815125\n"
     ]
    }
   ],
   "source": [
    "k = 3\n",
    "model = \"iris\"\n",
    "count1 = 0\n",
    "\n",
    "points = get_data(k, model)\n",
    "\n",
    "points = preprocess(points)\n",
    "\n",
    "centroids = initialize_centers(points, k)\n",
    "\n",
    "plt.figure()\n",
    "draw_plot(points, centroids, label=False)\n",
    "\n",
    "start_time = time.time()\n",
    "for i in range(100):\n",
    "    centers = find_nearest_neighbour(points, centroids, count1)\n",
    "    \n",
    "    centroids = find_centroids(points, centers)\n",
    "    \n",
    "    count1 = count1 + 1\n",
    "\n",
    "end_time = time.time()\n",
    "\n",
    "plt.figure()\n",
    "draw_plot(points, centers)\n",
    "    \n",
    "db_index = davies_bouldin_score(points, centers)\n",
    "print('Davies-Bouldin Index:', db_index)\n",
    "\n",
    "score = silhouette_score(points, centers)\n",
    "print('Silhouette Score:', score)\n",
    "\n",
    "exec_time = end_time - start_time\n",
    "print(\"Execution time: \", exec_time)"
   ]
  },
  {
   "cell_type": "markdown",
   "id": "2e56f0dd-50ae-4aab-87f1-ea9ac3f8f579",
   "metadata": {},
   "source": [
    "## 3.2 Dataset Wine"
   ]
  },
  {
   "cell_type": "code",
   "execution_count": 21,
   "id": "c92d9566",
   "metadata": {},
   "outputs": [
    {
     "data": {
      "image/png": "[encoded data removed]",
      "text/plain": [
       "<Figure size 432x288 with 1 Axes>"
      ]
     },
     "metadata": {
      "needs_background": "light"
     },
     "output_type": "display_data"
    },
    {
     "data": {
      "image/png": "[encoded data removed]",
      "text/plain": [
       "<Figure size 432x288 with 1 Axes>"
      ]
     },
     "metadata": {
      "needs_background": "light"
     },
     "output_type": "display_data"
    },
    {
     "name": "stdout",
     "output_type": "stream",
     "text": [
      "Davies-Bouldin Index: 1.1531825292839193\n",
      "Silhouette Score: 0.34030218506588905\n",
      "Execution time:  461.7289729118347\n"
     ]
    }
   ],
   "source": [
    "k = 3\n",
    "model = \"wine\"\n",
    "count1 = 0\n",
    "\n",
    "points = get_data(k, model)\n",
    "\n",
    "points = preprocess(points)\n",
    "\n",
    "centroids = initialize_centers(points, k)\n",
    "\n",
    "plt.figure()\n",
    "draw_plot(points, centroids, label=False)\n",
    "\n",
    "start_time = time.time()\n",
    "for i in range(100):\n",
    "    centers = find_nearest_neighbour(points, centroids, count1)\n",
    "    \n",
    "    centroids = find_centroids(points, centers)\n",
    "    \n",
    "    count1 = count1 + 1\n",
    "\n",
    "end_time = time.time()\n",
    "draw_plot(points, centers)\n",
    "\n",
    "db_index = davies_bouldin_score(points, centers)\n",
    "print('Davies-Bouldin Index:', db_index)\n",
    "\n",
    "score = silhouette_score(points, centers)\n",
    "print('Silhouette Score:', score)\n",
    "\n",
    "exec_time = end_time - start_time\n",
    "print(\"Execution time: \", exec_time)"
   ]
  },
  {
   "cell_type": "markdown",
   "id": "941926ac-edfb-4995-ac13-16a7a969c5b2",
   "metadata": {},
   "source": [
    "## 3.3 Dataset Breast Cancer"
   ]
  },
  {
   "cell_type": "code",
   "execution_count": 17,
   "id": "783fa557",
   "metadata": {},
   "outputs": [
    {
     "data": {
      "image/png": "[encoded data removed]",
      "text/plain": [
       "<Figure size 432x288 with 1 Axes>"
      ]
     },
     "metadata": {
      "needs_background": "light"
     },
     "output_type": "display_data"
    },
    {
     "name": "stdout",
     "output_type": "stream",
     "text": [
      "          ┌───┐                                            ┌───┐┌─┐\n",
      "qr_0: ────┤ H ├──────────────────────────────────────────■─┤ H ├┤M├\n",
      "      ┌───┴───┴────┐┌────────────┐┌────────────────────┐ │ └───┘└╥┘\n",
      "qr_1: ┤ Rz(2.2427) ├┤ Ry(2.2427) ├┤ U(2.2427,1.9911,0) ├─X───────╫─\n",
      "      ├────────────┤├────────────┤├────────────────────┤ │       ║ \n",
      "qr_2: ┤ Rz(1.8831) ├┤ Ry(1.8831) ├┤ U(1.8831,2.3503,0) ├─X───────╫─\n",
      "      └────────────┘└────────────┘└────────────────────┘         ║ \n",
      "cr: 3/═══════════════════════════════════════════════════════════╩═\n",
      "                                                                 0 \n"
     ]
    },
    {
     "data": {
      "image/png": "[encoded data removed]",
      "text/plain": [
       "<Figure size 432x288 with 1 Axes>"
      ]
     },
     "metadata": {
      "needs_background": "light"
     },
     "output_type": "display_data"
    },
    {
     "name": "stdout",
     "output_type": "stream",
     "text": [
      "Davies-Bouldin Index: 0.6528716785745264\n",
      "Silhouette Score: 0.6473024558310206\n",
      "Execution time:  966.2602183818817\n"
     ]
    }
   ],
   "source": [
    "k = 2\n",
    "model = \"bc\"\n",
    "count1 = 0\n",
    "\n",
    "points = get_data(k, model)\n",
    "\n",
    "points = preprocess(points)\n",
    "\n",
    "centroids = initialize_centers(points, k)\n",
    "\n",
    "plt.figure()\n",
    "draw_plot(points, centroids, label=False)\n",
    "\n",
    "start_time = time.time()\n",
    "for i in range(100):\n",
    "    centers = find_nearest_neighbour(points, centroids, count1)\n",
    "    centroids = find_centroids(points, centers)\n",
    "    \n",
    "    count1 = count1 + 1\n",
    "\n",
    "end_time = time.time()\n",
    "draw_plot(points, centers)\n",
    "\n",
    "db_index = davies_bouldin_score(points, centers)\n",
    "print('Davies-Bouldin Index:', db_index)\n",
    "\n",
    "score = silhouette_score(points, centers)\n",
    "print('Silhouette Score:', score)\n",
    "\n",
    "exec_time = end_time - start_time\n",
    "print(\"Execution time: \", exec_time)"
   ]
  },
  {
   "cell_type": "markdown",
   "id": "9d38bfbc-71bb-4ad1-a142-d4d0bee5f79a",
   "metadata": {},
   "source": [
    "## 4. Conclusões\n",
    "\n",
    "Os resultados obtidos para o algoritmo q-means em três datasets diferentes (WINE, IRIS e BREAST CANCER) apresentam algumas diferenças notáveis:\n",
    "\n",
    "**Davies-Bouldin Index (DBI):**\n",
    "\n",
    "No dataset WINE, o DBI é de aproximadamente 1.15.\n",
    "No dataset IRIS, o DBI é de aproximadamente 0.74.\n",
    "No dataset BREAST CANCER, o DBI é de aproximadamente 0.65.\n",
    "> Análise: O DBI é uma métrica que avalia a compactação e a separação entre clusters. Valores menores indicam clusters mais compactos e bem separados. Portanto, o menor valor foi obtido no dataset BREAST CANCER, sugerindo uma melhor qualidade do agrupamento em comparação com os outros datasets.\n",
    "\n",
    "**Silhouette Score:**\n",
    "\n",
    "No dataset WINE, o Silhouette Score é de aproximadamente 0.34.\n",
    "No dataset IRIS, o Silhouette Score é de aproximadamente 0.49.\n",
    "No dataset BREAST CANCER, o Silhouette Score é de aproximadamente 0.65.\n",
    "> Análise: O Silhouette Score mede o quão bem os clusters estão separados e quão semelhantes os pontos estão dentro dos clusters. Valores mais próximos de 1 indicam clusters bem definidos. Nesse caso, o dataset BREAST CANCER tem o melhor resultado, sugerindo uma melhor separação e consistência dos clusters.\n",
    "\n",
    "**Tempo de Execução:**\n",
    "\n",
    "No dataset WINE, o tempo de execução é de aproximadamente 461.73 segundos.\n",
    "No dataset IRIS, o tempo de execução é de aproximadamente 385.33 segundos.\n",
    "No dataset BREAST CANCER, o tempo de execução é de aproximadamente 966.26 segundos.\n",
    "> Análise: O tempo de execução é significativamente maior no dataset BREAST CANCER, seguido pelo dataset WINE. Isso pode ser devido à complexidade do algoritmo ou à quantidade de dados. O dataset IRIS possui o menor tempo de execução.\n",
    "\n",
    "Em resumo, o dataset BREAST CANCER obteve os melhores resultados em ambas as métricas de avaliação, sugerindo que o algoritmo q-means funcionou melhor na tarefa de clusterização nesse conjunto de dados. No entanto, é importante notar que o tempo de execução no dataset BREAST CANCER é substancialmente maior. Portanto, a escolha do dataset a ser usado deve considerar um equilíbrio entre a qualidade do agrupamento e o tempo de execução, dependendo dos requisitos da aplicação. O dataset IRIS também apresentou bons resultados em ambas as métricas, sendo uma escolha intermediária em termos de desempenho e qualidade de clustering. Por fim, o dataset WINE obteve os resultados menos favoráveis, com pontuações mais baixas em ambas as métricas e um tempo de execução intermediário."
   ]
  },
  {
   "cell_type": "code",
   "execution_count": null,
   "id": "0696dd6d",
   "metadata": {},
   "outputs": [],
   "source": []
  }
 ],
 "metadata": {
  "kernelspec": {
   "display_name": "Python 3 (ipykernel)",
   "language": "python",
   "name": "python3"
  },
  "language_info": {
   "codemirror_mode": {
    "name": "ipython",
    "version": 3
   },
   "file_extension": ".py",
   "mimetype": "text/x-python",
   "name": "python",
   "nbconvert_exporter": "python",
   "pygments_lexer": "ipython3",
   "version": "3.8.10"
  }
 },
 "nbformat": 4,
 "nbformat_minor": 5
}
